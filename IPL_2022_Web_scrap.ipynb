{
 "cells": [
  {
   "cell_type": "code",
   "execution_count": 58,
   "metadata": {},
   "outputs": [],
   "source": [
    "import requests\n",
    "from bs4 import BeautifulSoup\n",
    "url = 'https://webscraper.io/test-sites/e-commerce/allinone/computers/tablets'\n",
    "r = requests.get(url)\n",
    "# r"
   ]
  },
  {
   "cell_type": "code",
   "execution_count": 59,
   "metadata": {},
   "outputs": [],
   "source": [
    "soup = BeautifulSoup(r.text)\n",
    "# soup"
   ]
  },
  {
   "cell_type": "code",
   "execution_count": 60,
   "metadata": {},
   "outputs": [],
   "source": [
    "boxes = soup.find_all('div',class_ = 'col-sm-4 col-lg-4 col-md-4')\n",
    "# boxes"
   ]
  },
  {
   "cell_type": "code",
   "execution_count": 61,
   "metadata": {},
   "outputs": [],
   "source": [
    "names = soup.find_all('a',class_ ='title')\n",
    "# names"
   ]
  },
  {
   "cell_type": "code",
   "execution_count": 62,
   "metadata": {},
   "outputs": [
    {
     "name": "stdout",
     "output_type": "stream",
     "text": [
      "Lenovo IdeaTab\n",
      "IdeaTab A3500L\n",
      "Acer Iconia\n",
      "Galaxy Tab 3\n",
      "Iconia B1-730HD\n",
      "Memo Pad HD 7\n",
      "Asus MeMO Pad\n",
      "Amazon Kindle\n",
      "Galaxy Tab 3\n",
      "IdeaTab A8-50\n",
      "MeMO Pad 7\n",
      "IdeaTab A3500-H\n",
      "IdeaTab S5000\n",
      "Galaxy Tab 4\n",
      "Galaxy Tab\n",
      "MeMo PAD FHD 10\n",
      "Galaxy Note\n",
      "Galaxy Note\n",
      "iPad Mini Retina\n",
      "Galaxy Note 10.1\n",
      "Apple iPad Air\n"
     ]
    }
   ],
   "source": [
    "for i in names:\n",
    "    print(i.text)"
   ]
  },
  {
   "cell_type": "code",
   "execution_count": 63,
   "metadata": {},
   "outputs": [
    {
     "name": "stdout",
     "output_type": "stream",
     "text": [
      "$69.99\n",
      "$88.99\n",
      "$96.99\n",
      "$97.99\n",
      "$99.99\n",
      "$101.99\n",
      "$102.99\n",
      "$103.99\n",
      "$107.99\n",
      "$121.99\n",
      "$130.99\n",
      "$148.99\n",
      "$172.99\n",
      "$233.99\n",
      "$251.99\n",
      "$320.99\n",
      "$399.99\n",
      "$489.99\n",
      "$537.99\n",
      "$587.99\n",
      "$603.99\n"
     ]
    }
   ],
   "source": [
    "prices = soup.find_all('h4',class_='pull-right price')\n",
    "for i in prices:\n",
    "    print(i.text)"
   ]
  },
  {
   "cell_type": "code",
   "execution_count": 64,
   "metadata": {},
   "outputs": [
    {
     "data": {
      "text/plain": [
       "<Response [200]>"
      ]
     },
     "execution_count": 64,
     "metadata": {},
     "output_type": "execute_result"
    }
   ],
   "source": [
    "import pandas as pd\n",
    "\n",
    "url1 = 'https://www.iplt20.com/auction/2022'\n",
    "r = requests.get(url1)\n",
    "r\n"
   ]
  },
  {
   "cell_type": "code",
   "execution_count": 65,
   "metadata": {},
   "outputs": [],
   "source": [
    "soup = BeautifulSoup(r.text)\n",
    "# soup"
   ]
  },
  {
   "cell_type": "code",
   "execution_count": 66,
   "metadata": {},
   "outputs": [
    {
     "name": "stdout",
     "output_type": "stream",
     "text": [
      "\n",
      "                      \n",
      "\n",
      "                        TEAM\n",
      "                        FUNDS REMAINING\n",
      "                        OVERSEAS PLAYERS \n",
      "                        TOTAL PLAYERS\n",
      "                      \n",
      "\n",
      "                      \n",
      "\n",
      "                                                                        \n",
      "                          \n",
      "                            \n",
      "                              \n",
      "                                \n",
      "                              \n",
      "                              Chennai Super Kings\n",
      "                            \n",
      "                          \n",
      "                          ₹2,95,00,000\n",
      "                          8\n",
      "                          25\n",
      "                        \n",
      "                                                \n",
      "                          \n",
      "                            \n",
      "                              \n",
      "                                \n",
      "                              \n",
      "                              Delhi Capitals\n",
      "                            \n",
      "                          \n",
      "                          ₹10,00,000\n",
      "                          7\n",
      "                          24\n",
      "                        \n",
      "                                                \n",
      "                          \n",
      "                            \n",
      "                              \n",
      "                                \n",
      "                              \n",
      "                              Gujarat Titans\n",
      "                            \n",
      "                          \n",
      "                          ₹15,00,000\n",
      "                          8\n",
      "                          23\n",
      "                        \n",
      "                                                \n",
      "                          \n",
      "                            \n",
      "                              \n",
      "                                \n",
      "                              \n",
      "                              Kolkata Knight Riders\n",
      "                            \n",
      "                          \n",
      "                          ₹45,00,000\n",
      "                          8\n",
      "                          25\n",
      "                        \n",
      "                                                \n",
      "                          \n",
      "                            \n",
      "                              \n",
      "                                \n",
      "                              \n",
      "                              Lucknow Super Giants\n",
      "                            \n",
      "                          \n",
      "                          ₹0\n",
      "                          7\n",
      "                          21\n",
      "                        \n",
      "                                                \n",
      "                          \n",
      "                            \n",
      "                              \n",
      "                                \n",
      "                              \n",
      "                              Mumbai Indians\n",
      "                            \n",
      "                          \n",
      "                          ₹10,00,000\n",
      "                          8\n",
      "                          25\n",
      "                        \n",
      "                                                \n",
      "                          \n",
      "                            \n",
      "                              \n",
      "                                \n",
      "                              \n",
      "                              Punjab Kings\n",
      "                            \n",
      "                          \n",
      "                          ₹3,45,00,000\n",
      "                          7\n",
      "                          25\n",
      "                        \n",
      "                                                \n",
      "                          \n",
      "                            \n",
      "                              \n",
      "                                \n",
      "                              \n",
      "                              Rajasthan Royals\n",
      "                            \n",
      "                          \n",
      "                          ₹95,00,000\n",
      "                          8\n",
      "                          24\n",
      "                        \n",
      "                                                \n",
      "                          \n",
      "                            \n",
      "                              \n",
      "                                \n",
      "                              \n",
      "                              Royal Challengers Bangalore\n",
      "                            \n",
      "                          \n",
      "                          ₹1,55,00,000\n",
      "                          8\n",
      "                          22\n",
      "                        \n",
      "                                                \n",
      "                          \n",
      "                            \n",
      "                              \n",
      "                                \n",
      "                              \n",
      "                              Sunrisers Hyderabad\n",
      "                            \n",
      "                          \n",
      "                          ₹10,00,000\n",
      "                          8\n",
      "                          23\n",
      "                        \n",
      "                                                                      \n",
      "\n",
      "                    \n"
     ]
    }
   ],
   "source": [
    "table = soup.find('table',class_='ih-td-tab auction-tbl')\n",
    "for i in table:\n",
    "    print(i.text)"
   ]
  },
  {
   "cell_type": "code",
   "execution_count": 67,
   "metadata": {},
   "outputs": [],
   "source": [
    "header = []\n",
    "title = table.find_all('th')\n",
    "for i in title:\n",
    "    name = i.text\n",
    "    header.append(name)"
   ]
  },
  {
   "cell_type": "code",
   "execution_count": 68,
   "metadata": {},
   "outputs": [
    {
     "data": {
      "text/html": [
       "<div>\n",
       "<style scoped>\n",
       "    .dataframe tbody tr th:only-of-type {\n",
       "        vertical-align: middle;\n",
       "    }\n",
       "\n",
       "    .dataframe tbody tr th {\n",
       "        vertical-align: top;\n",
       "    }\n",
       "\n",
       "    .dataframe thead th {\n",
       "        text-align: right;\n",
       "    }\n",
       "</style>\n",
       "<table border=\"1\" class=\"dataframe\">\n",
       "  <thead>\n",
       "    <tr style=\"text-align: right;\">\n",
       "      <th></th>\n",
       "      <th>TEAM</th>\n",
       "      <th>FUNDS REMAINING</th>\n",
       "      <th>OVERSEAS PLAYERS</th>\n",
       "      <th>TOTAL PLAYERS</th>\n",
       "    </tr>\n",
       "  </thead>\n",
       "  <tbody>\n",
       "  </tbody>\n",
       "</table>\n",
       "</div>"
      ],
      "text/plain": [
       "Empty DataFrame\n",
       "Columns: [TEAM, FUNDS REMAINING, OVERSEAS PLAYERS , TOTAL PLAYERS]\n",
       "Index: []"
      ]
     },
     "execution_count": 68,
     "metadata": {},
     "output_type": "execute_result"
    }
   ],
   "source": [
    "df = pd.DataFrame(columns = header)\n",
    "df"
   ]
  },
  {
   "cell_type": "code",
   "execution_count": 69,
   "metadata": {},
   "outputs": [],
   "source": [
    "name =[]\n",
    "rows = table.find_all('tr')\n",
    "for i in rows[1:]:\n",
    "    data = i.find_all('td')\n",
    "    x = i.find('h2').text\n",
    "    name.append(x)\n",
    "    row = [tr.text for tr in data]\n",
    "    l = len(df)\n",
    "    df.loc[l] = row"
   ]
  },
  {
   "cell_type": "code",
   "execution_count": 80,
   "metadata": {},
   "outputs": [],
   "source": [
    "# for i in range(len(name)):\n",
    "df.iloc[:,0] = name"
   ]
  },
  {
   "cell_type": "code",
   "execution_count": 81,
   "metadata": {},
   "outputs": [
    {
     "data": {
      "text/html": [
       "<div>\n",
       "<style scoped>\n",
       "    .dataframe tbody tr th:only-of-type {\n",
       "        vertical-align: middle;\n",
       "    }\n",
       "\n",
       "    .dataframe tbody tr th {\n",
       "        vertical-align: top;\n",
       "    }\n",
       "\n",
       "    .dataframe thead th {\n",
       "        text-align: right;\n",
       "    }\n",
       "</style>\n",
       "<table border=\"1\" class=\"dataframe\">\n",
       "  <thead>\n",
       "    <tr style=\"text-align: right;\">\n",
       "      <th></th>\n",
       "      <th>TEAM</th>\n",
       "      <th>FUNDS REMAINING</th>\n",
       "      <th>OVERSEAS PLAYERS</th>\n",
       "      <th>TOTAL PLAYERS</th>\n",
       "    </tr>\n",
       "  </thead>\n",
       "  <tbody>\n",
       "    <tr>\n",
       "      <th>0</th>\n",
       "      <td>Chennai Super Kings</td>\n",
       "      <td>₹2,95,00,000</td>\n",
       "      <td>8</td>\n",
       "      <td>25</td>\n",
       "    </tr>\n",
       "    <tr>\n",
       "      <th>1</th>\n",
       "      <td>Delhi Capitals</td>\n",
       "      <td>₹10,00,000</td>\n",
       "      <td>7</td>\n",
       "      <td>24</td>\n",
       "    </tr>\n",
       "    <tr>\n",
       "      <th>2</th>\n",
       "      <td>Gujarat Titans</td>\n",
       "      <td>₹15,00,000</td>\n",
       "      <td>8</td>\n",
       "      <td>23</td>\n",
       "    </tr>\n",
       "    <tr>\n",
       "      <th>3</th>\n",
       "      <td>Kolkata Knight Riders</td>\n",
       "      <td>₹45,00,000</td>\n",
       "      <td>8</td>\n",
       "      <td>25</td>\n",
       "    </tr>\n",
       "    <tr>\n",
       "      <th>4</th>\n",
       "      <td>Lucknow Super Giants</td>\n",
       "      <td>₹0</td>\n",
       "      <td>7</td>\n",
       "      <td>21</td>\n",
       "    </tr>\n",
       "    <tr>\n",
       "      <th>5</th>\n",
       "      <td>Mumbai Indians</td>\n",
       "      <td>₹10,00,000</td>\n",
       "      <td>8</td>\n",
       "      <td>25</td>\n",
       "    </tr>\n",
       "    <tr>\n",
       "      <th>6</th>\n",
       "      <td>Punjab Kings</td>\n",
       "      <td>₹3,45,00,000</td>\n",
       "      <td>7</td>\n",
       "      <td>25</td>\n",
       "    </tr>\n",
       "    <tr>\n",
       "      <th>7</th>\n",
       "      <td>Rajasthan Royals</td>\n",
       "      <td>₹95,00,000</td>\n",
       "      <td>8</td>\n",
       "      <td>24</td>\n",
       "    </tr>\n",
       "    <tr>\n",
       "      <th>8</th>\n",
       "      <td>Royal Challengers Bangalore</td>\n",
       "      <td>₹1,55,00,000</td>\n",
       "      <td>8</td>\n",
       "      <td>22</td>\n",
       "    </tr>\n",
       "    <tr>\n",
       "      <th>9</th>\n",
       "      <td>Sunrisers Hyderabad</td>\n",
       "      <td>₹10,00,000</td>\n",
       "      <td>8</td>\n",
       "      <td>23</td>\n",
       "    </tr>\n",
       "  </tbody>\n",
       "</table>\n",
       "</div>"
      ],
      "text/plain": [
       "                          TEAM FUNDS REMAINING OVERSEAS PLAYERS  TOTAL PLAYERS\n",
       "0          Chennai Super Kings    ₹2,95,00,000                 8            25\n",
       "1               Delhi Capitals      ₹10,00,000                 7            24\n",
       "2               Gujarat Titans      ₹15,00,000                 8            23\n",
       "3        Kolkata Knight Riders      ₹45,00,000                 8            25\n",
       "4         Lucknow Super Giants              ₹0                 7            21\n",
       "5               Mumbai Indians      ₹10,00,000                 8            25\n",
       "6                 Punjab Kings    ₹3,45,00,000                 7            25\n",
       "7             Rajasthan Royals      ₹95,00,000                 8            24\n",
       "8  Royal Challengers Bangalore    ₹1,55,00,000                 8            22\n",
       "9          Sunrisers Hyderabad      ₹10,00,000                 8            23"
      ]
     },
     "execution_count": 81,
     "metadata": {},
     "output_type": "execute_result"
    }
   ],
   "source": [
    "df"
   ]
  },
  {
   "cell_type": "code",
   "execution_count": 82,
   "metadata": {},
   "outputs": [],
   "source": [
    "df.to_csv('ipl_auction_2022.csv')"
   ]
  },
  {
   "cell_type": "code",
   "execution_count": null,
   "metadata": {},
   "outputs": [],
   "source": []
  }
 ],
 "metadata": {
  "kernelspec": {
   "display_name": "Python 3",
   "language": "python",
   "name": "python3"
  },
  "language_info": {
   "codemirror_mode": {
    "name": "ipython",
    "version": 3
   },
   "file_extension": ".py",
   "mimetype": "text/x-python",
   "name": "python",
   "nbconvert_exporter": "python",
   "pygments_lexer": "ipython3",
   "version": "3.11.2"
  },
  "orig_nbformat": 4
 },
 "nbformat": 4,
 "nbformat_minor": 2
}
